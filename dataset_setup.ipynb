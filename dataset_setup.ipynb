{
 "cells": [
  {
   "cell_type": "markdown",
   "metadata": {},
   "source": [
    "### Setup of SynPTCEvo4J-base\n",
    "*==> Notes: `REPO_BASE = \"xxx/SynPTCEvo4J/repos\"`* "
   ]
  },
  {
   "cell_type": "markdown",
   "metadata": {},
   "source": [
    "**1. Clone from `dataset/synPTCEvo4j/datafile`**"
   ]
  },
  {
   "cell_type": "code",
   "execution_count": null,
   "metadata": {},
   "outputs": [],
   "source": [
    "from utils.gitter import setup_repos_from_datafile\n",
    "\n",
    "# clone from datafile\n",
    "setup_repos_from_datafile(\"dataset/synPTCEvo4j/test.json\")"
   ]
  },
  {
   "cell_type": "markdown",
   "metadata": {},
   "source": [
    "**2. Clone from an `Example`**"
   ]
  },
  {
   "cell_type": "code",
   "execution_count": null,
   "metadata": {},
   "outputs": [],
   "source": [
    "from utils.gitter import setup_repo\n",
    "\n",
    "# clone for one\n",
    "db = {\n",
    "    \"repo_name\": \"Alluxio/alluxio\",\n",
    "    \"commit_id\": \"8cc5a292f4c6e38ed0066ce5bd700cc946dc3803\",\n",
    "}\n",
    "repo = setup_repo(db[\"repo_name\"], db[\"commit_id\"], do_clone=True)"
   ]
  }
 ],
 "metadata": {
  "kernelspec": {
   "display_name": "semBC_venv",
   "language": "python",
   "name": "python3"
  },
  "language_info": {
   "codemirror_mode": {
    "name": "ipython",
    "version": 3
   },
   "file_extension": ".py",
   "mimetype": "text/x-python",
   "name": "python",
   "nbconvert_exporter": "python",
   "pygments_lexer": "ipython3",
   "version": "3.11.5"
  }
 },
 "nbformat": 4,
 "nbformat_minor": 2
}
